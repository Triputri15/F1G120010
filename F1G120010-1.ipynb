{
 "cells": [
  {
   "cell_type": "code",
   "execution_count": 1,
   "id": "7a8d9f05",
   "metadata": {},
   "outputs": [
    {
     "name": "stdout",
     "output_type": "stream",
     "text": [
      "11\n"
     ]
    }
   ],
   "source": [
    "x=5\n",
    "y=6\n",
    "z=x+y\n",
    "print(z)"
   ]
  },
  {
   "cell_type": "code",
   "execution_count": 2,
   "id": "a4a49108",
   "metadata": {},
   "outputs": [
    {
     "name": "stdout",
     "output_type": "stream",
     "text": [
      "Ayah ibu\n",
      "Ayah ibu\n",
      "Ayah ibu\n",
      "Ayah ibu\n",
      "Ayah ibu\n",
      "Ayah ibu\n",
      "Ayah ibu\n",
      "Ayah ibu\n",
      "Ayah ibu\n",
      "Ayah ibu\n"
     ]
    }
   ],
   "source": [
    "for i in range(10):\n",
    "    print('Ayah ibu')"
   ]
  },
  {
   "cell_type": "code",
   "execution_count": 5,
   "id": "845b8677",
   "metadata": {},
   "outputs": [
    {
     "name": "stdout",
     "output_type": "stream",
     "text": [
      "ok\n"
     ]
    }
   ],
   "source": [
    "x=5\n",
    "y=6\n",
    "if x<y:\n",
    "    print('ok')\n",
    "else:\n",
    "    print('not-ok')"
   ]
  },
  {
   "cell_type": "code",
   "execution_count": 8,
   "id": "4cdab218",
   "metadata": {},
   "outputs": [
    {
     "name": "stdout",
     "output_type": "stream",
     "text": [
      "90\n",
      "A\n"
     ]
    }
   ],
   "source": [
    "x= int(input())\n",
    "if x>80:\n",
    "    print('A')\n",
    "elif x>70:\n",
    "    print('B')\n",
    "    "
   ]
  },
  {
   "cell_type": "code",
   "execution_count": null,
   "id": "013b3601",
   "metadata": {},
   "outputs": [],
   "source": [
    "\n",
    "        "
   ]
  },
  {
   "cell_type": "code",
   "execution_count": 9,
   "id": "ae106afd",
   "metadata": {},
   "outputs": [
    {
     "name": "stdout",
     "output_type": "stream",
     "text": [
      "80\n",
      "A\n"
     ]
    }
   ],
   "source": [
    "x= int(input())\n",
    "if x>80:\n",
    "    print('A')\n",
    "elif x>70:\n",
    "    print('B')\n",
    "    \n",
    "    "
   ]
  },
  {
   "cell_type": "code",
   "execution_count": 10,
   "id": "bb84a9c4",
   "metadata": {},
   "outputs": [
    {
     "name": "stdout",
     "output_type": "stream",
     "text": [
      "70\n"
     ]
    }
   ],
   "source": []
  },
  {
   "cell_type": "code",
   "execution_count": 11,
   "id": "b6dc7e5e",
   "metadata": {},
   "outputs": [
    {
     "name": "stdout",
     "output_type": "stream",
     "text": [
      "80\n",
      "B\n"
     ]
    }
   ],
   "source": [
    "x= int(input())\n",
    "if x>80:\n",
    "    print('A')\n",
    "elif x>70:\n",
    "    print('B')\n",
    "    \n",
    "    "
   ]
  },
  {
   "cell_type": "code",
   "execution_count": 12,
   "id": "28b46441",
   "metadata": {},
   "outputs": [
    {
     "name": "stdout",
     "output_type": "stream",
     "text": [
      "90\n",
      "A\n"
     ]
    }
   ],
   "source": [
    "x= int(input())\n",
    "if x>80:\n",
    "    print('A')\n",
    "elif x>70:\n",
    "    print('B')\n",
    "    \n",
    "    "
   ]
  },
  {
   "cell_type": "code",
   "execution_count": 15,
   "id": "d47ee720",
   "metadata": {},
   "outputs": [
    {
     "name": "stdout",
     "output_type": "stream",
     "text": [
      "anggur\n",
      "jeruk\n",
      "pisang\n",
      "anggur\n",
      "jeruk\n",
      "pisang\n"
     ]
    }
   ],
   "source": [
    "dlist=['anggur','jeruk','pisang']\n",
    "print(dlist[0])\n",
    "print(dlist[1])\n",
    "print(dlist[2])\n",
    "\n",
    "for x in dlist:\n",
    "    print(x)"
   ]
  },
  {
   "cell_type": "code",
   "execution_count": 16,
   "id": "7a6450d3",
   "metadata": {},
   "outputs": [
    {
     "name": "stdout",
     "output_type": "stream",
     "text": [
      "(1, 2, 3)\n"
     ]
    }
   ],
   "source": [
    "xarr=[(1,2,3),(4,5,6)]\n",
    "print(xarr[0])"
   ]
  },
  {
   "cell_type": "code",
   "execution_count": 21,
   "id": "01cf70c4",
   "metadata": {},
   "outputs": [
    {
     "name": "stdout",
     "output_type": "stream",
     "text": [
      "((1, 2, 3), (4, 5, 6))\n"
     ]
    }
   ],
   "source": [
    "xa=[((1,2,3),(4,5,6)),((7,8,9),(10,11,12))]\n",
    "print(xa[0])"
   ]
  },
  {
   "cell_type": "code",
   "execution_count": 22,
   "id": "1b6c0bfc",
   "metadata": {},
   "outputs": [
    {
     "name": "stdout",
     "output_type": "stream",
     "text": [
      "((7, 8, 9), (10, 11, 12))\n"
     ]
    }
   ],
   "source": [
    "print(xa[1])"
   ]
  },
  {
   "cell_type": "code",
   "execution_count": null,
   "id": "3d0f3041",
   "metadata": {},
   "outputs": [],
   "source": []
  }
 ],
 "metadata": {
  "kernelspec": {
   "display_name": "Python 3 (ipykernel)",
   "language": "python",
   "name": "python3"
  },
  "language_info": {
   "codemirror_mode": {
    "name": "ipython",
    "version": 3
   },
   "file_extension": ".py",
   "mimetype": "text/x-python",
   "name": "python",
   "nbconvert_exporter": "python",
   "pygments_lexer": "ipython3",
   "version": "3.9.12"
  }
 },
 "nbformat": 4,
 "nbformat_minor": 5
}
