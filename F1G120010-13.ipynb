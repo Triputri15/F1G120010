{
 "cells": [
  {
   "cell_type": "code",
   "execution_count": 1,
   "id": "9e7e218a",
   "metadata": {},
   "outputs": [],
   "source": [
    "import nltk"
   ]
  },
  {
   "cell_type": "code",
   "execution_count": 29,
   "id": "1f6b22d8",
   "metadata": {},
   "outputs": [
    {
     "name": "stdout",
     "output_type": "stream",
     "text": [
      "Collecting sastrawiNote: you may need to restart the kernel to use updated packages.\n",
      "  Downloading Sastrawi-1.0.1-py2.py3-none-any.whl (209 kB)\n",
      "Saved c:\\users\\tri putri\\tuprodm\\sastrawi-1.0.1-py2.py3-none-any.whl\n",
      "Successfully downloaded sastrawi\n",
      "\n"
     ]
    }
   ],
   "source": [
    "pip download sastrawi"
   ]
  },
  {
   "cell_type": "code",
   "execution_count": 2,
   "id": "f37f5b70",
   "metadata": {},
   "outputs": [
    {
     "name": "stderr",
     "output_type": "stream",
     "text": [
      "[nltk_data] Downloading package punkt to C:\\Users\\Tri\n",
      "[nltk_data]     Putri\\AppData\\Roaming\\nltk_data...\n",
      "[nltk_data]   Package punkt is already up-to-date!\n"
     ]
    },
    {
     "data": {
      "text/plain": [
       "True"
      ]
     },
     "execution_count": 2,
     "metadata": {},
     "output_type": "execute_result"
    }
   ],
   "source": [
    "nltk.download('punkt')"
   ]
  },
  {
   "cell_type": "code",
   "execution_count": 4,
   "id": "d7ac1409",
   "metadata": {},
   "outputs": [],
   "source": [
    "from nltk.tokenize import word_tokenize"
   ]
  },
  {
   "cell_type": "code",
   "execution_count": 5,
   "id": "b565bee4",
   "metadata": {},
   "outputs": [
    {
     "name": "stdout",
     "output_type": "stream",
     "text": [
      "['Hallo', 'apa', 'kabarnya', 'kamu', 'di', 'Desa']\n"
     ]
    }
   ],
   "source": [
    "text ='Hallo apa kabarnya kamu di Desa'\n",
    "tokenized_word = word_tokenize(text)\n",
    "print(tokenized_word) "
   ]
  },
  {
   "cell_type": "code",
   "execution_count": 6,
   "id": "cd2c68b2",
   "metadata": {},
   "outputs": [
    {
     "data": {
      "text/plain": [
       "[('Hallo', 'apa'),\n",
       " ('apa', 'kabarnya'),\n",
       " ('kabarnya', 'kamu'),\n",
       " ('kamu', 'di'),\n",
       " ('di', 'Desa')]"
      ]
     },
     "execution_count": 6,
     "metadata": {},
     "output_type": "execute_result"
    }
   ],
   "source": [
    "list(nltk.bigrams(tokenized_word))"
   ]
  },
  {
   "cell_type": "code",
   "execution_count": 13,
   "id": "37eb3a10",
   "metadata": {},
   "outputs": [
    {
     "data": {
      "text/plain": [
       "[('Hallo', 'apa', 'kabarnya'),\n",
       " ('apa', 'kabarnya', 'kamu'),\n",
       " ('kabarnya', 'kamu', 'di'),\n",
       " ('kamu', 'di', 'Desa')]"
      ]
     },
     "execution_count": 13,
     "metadata": {},
     "output_type": "execute_result"
    }
   ],
   "source": [
    "list (nltk.trigrams(tokenized_word))"
   ]
  },
  {
   "cell_type": "code",
   "execution_count": 14,
   "id": "1a272c44",
   "metadata": {},
   "outputs": [
    {
     "data": {
      "text/plain": [
       "[('Hallo', 'apa', 'kabarnya', 'kamu'),\n",
       " ('apa', 'kabarnya', 'kamu', 'di'),\n",
       " ('kabarnya', 'kamu', 'di', 'Desa')]"
      ]
     },
     "execution_count": 14,
     "metadata": {},
     "output_type": "execute_result"
    }
   ],
   "source": [
    "list(nltk.ngrams(tokenized_word, 4))"
   ]
  },
  {
   "cell_type": "code",
   "execution_count": 16,
   "id": "46d8971d",
   "metadata": {},
   "outputs": [
    {
     "name": "stdout",
     "output_type": "stream",
     "text": [
      "<FreqDist with 6 samples and 6 outcomes>\n"
     ]
    },
    {
     "data": {
      "text/plain": [
       "FreqDist({'Hallo': 1, 'apa': 1, 'kabarnya': 1, 'kamu': 1, 'di': 1, 'Desa': 1})"
      ]
     },
     "execution_count": 16,
     "metadata": {},
     "output_type": "execute_result"
    }
   ],
   "source": [
    "from nltk.probability import FreqDist\n",
    "fDist =FreqDist(tokenized_word)\n",
    "print(fDist)\n",
    "fDist"
   ]
  },
  {
   "cell_type": "code",
   "execution_count": 18,
   "id": "d0a16aef",
   "metadata": {},
   "outputs": [
    {
     "data": {
      "text/plain": [
       "[('Hallo', 1), ('apa', 1)]"
      ]
     },
     "execution_count": 18,
     "metadata": {},
     "output_type": "execute_result"
    }
   ],
   "source": [
    "fDist.most_common(2)"
   ]
  },
  {
   "cell_type": "code",
   "execution_count": 28,
   "id": "74ee2b39",
   "metadata": {},
   "outputs": [
    {
     "data": {
      "image/png": "[encoded data removed]",
      "text/plain": [
       "<Figure size 432x288 with 1 Axes>"
      ]
     },
     "metadata": {
      "needs_background": "light"
     },
     "output_type": "display_data"
    }
   ],
   "source": [
    "import matplotlib.pyplot as plt\n",
    "fDist.plot(20, cumulative=False)\n",
    "plt.show()"
   ]
  },
  {
   "cell_type": "code",
   "execution_count": 19,
   "id": "ebdc5e7f",
   "metadata": {},
   "outputs": [
    {
     "data": {
      "text/plain": [
       "['guido@phyton.org', 'guide@gooogle.com']"
      ]
     },
     "execution_count": 19,
     "metadata": {},
     "output_type": "execute_result"
    }
   ],
   "source": [
    "import re\n",
    "email = re.compile('\\w+@\\w+\\.[a-z]{3}')\n",
    "text = \"To email Guido, try guido@phyton.org or the older adress guide@gooogle.com\"\n",
    "email.findall(text)"
   ]
  },
  {
   "cell_type": "code",
   "execution_count": 20,
   "id": "df73c6a1",
   "metadata": {},
   "outputs": [],
   "source": [
    "text_mask=email.sub('_email_', text)"
   ]
  },
  {
   "cell_type": "code",
   "execution_count": 22,
   "id": "d3e39193",
   "metadata": {},
   "outputs": [
    {
     "data": {
      "text/plain": [
       "'To email Guido, try _email_ or the older adress _email_'"
      ]
     },
     "execution_count": 22,
     "metadata": {},
     "output_type": "execute_result"
    }
   ],
   "source": [
    "text_mask"
   ]
  },
  {
   "cell_type": "code",
   "execution_count": 25,
   "id": "dd55ba2f",
   "metadata": {},
   "outputs": [
    {
     "name": "stdout",
     "output_type": "stream",
     "text": [
      "{'tri': 6, 'mengikuti': 4, 'kegiatan': 2, 'pmm': 5, 'di': 0, 'universitas': 7, 'komputer': 3, 'indonesia': 1}\n"
     ]
    }
   ],
   "source": [
    "from sklearn.feature_extraction.text import CountVectorizer\n",
    "#list of text documents\n",
    "text = [\"Tri mengikuti kegiatan Pmm di Universitas Komputer Indonesia.\"]\n",
    "#create the tranform\n",
    "vectorizer = CountVectorizer()\n",
    "vectorizer.fit(text)\n",
    "#summarize\n",
    "print(vectorizer.vocabulary_)"
   ]
  },
  {
   "cell_type": "code",
   "execution_count": 27,
   "id": "98f78585",
   "metadata": {},
   "outputs": [
    {
     "name": "stdout",
     "output_type": "stream",
     "text": [
      "(1, 8)\n",
      "<class 'scipy.sparse.csr.csr_matrix'>\n",
      "[[1 1 1 1 1 1 1 1]]\n"
     ]
    }
   ],
   "source": [
    "vector = vectorizer.transform(text)\n",
    "#summarize encoded vector\n",
    "print(vector.shape)\n",
    "print(type(vector))\n",
    "print(vector.toarray())"
   ]
  },
  {
   "cell_type": "code",
   "execution_count": null,
   "id": "23a7a3f0",
   "metadata": {},
   "outputs": [],
   "source": []
  }
 ],
 "metadata": {
  "kernelspec": {
   "display_name": "Python 3 (ipykernel)",
   "language": "python",
   "name": "python3"
  },
  "language_info": {
   "codemirror_mode": {
    "name": "ipython",
    "version": 3
   },
   "file_extension": ".py",
   "mimetype": "text/x-python",
   "name": "python",
   "nbconvert_exporter": "python",
   "pygments_lexer": "ipython3",
   "version": "3.9.12"
  }
 },
 "nbformat": 4,
 "nbformat_minor": 5
}
