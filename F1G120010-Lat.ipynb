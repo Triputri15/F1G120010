{
 "cells": [
  {
   "cell_type": "code",
   "execution_count": 1,
   "id": "e538010c",
   "metadata": {},
   "outputs": [],
   "source": [
    "#buat file iris.csv\n",
    "#buat grafik pie,lines, bar,heatmap dengan data kolom yg ada di Iris"
   ]
  },
  {
   "cell_type": "code",
   "execution_count": 9,
   "id": "aa2759d2",
   "metadata": {},
   "outputs": [
    {
     "data": {
      "text/plain": [
       "([<matplotlib.patches.Wedge at 0x22d481d2160>,\n",
       "  <matplotlib.patches.Wedge at 0x22d481d2640>,\n",
       "  <matplotlib.patches.Wedge at 0x22d481d2b20>,\n",
       "  <matplotlib.patches.Wedge at 0x22d481df040>],\n",
       " [Text(0.5640488295210451, 1.1712595433617348, 'Apples'),\n",
       "  Text(-1.0969241849621987, 0.08220299535306777, 'Banana'),\n",
       "  Text(-0.2447728623971385, -1.072420741049851, 'Cherries'),\n",
       "  Text(0.9088627608729387, -0.6196519038124708, 'pier')])"
      ]
     },
     "execution_count": 9,
     "metadata": {},
     "output_type": "execute_result"
    },
    {
     "data": {
      "image/png": "[encoded data removed]",
      "text/plain": [
       "<Figure size 432x288 with 1 Axes>"
      ]
     },
     "metadata": {},
     "output_type": "display_data"
    }
   ],
   "source": [
    "import matplotlib.pyplot as plt\n",
    "import numpy as np\n",
    "\n",
    "y= np.array([35,25,25,15])\n",
    "mylabels=[\"Apples\",\"Banana\",\"Cherries\",\"pier\"]\n",
    "myexplode=[0.2, 0, 0, 0]\n",
    "\n",
    "plt.pie(votes, labels= mylabels, explode = myexplode,)"
   ]
  },
  {
   "cell_type": "code",
   "execution_count": null,
   "id": "6fc794a9",
   "metadata": {},
   "outputs": [],
   "source": [
    "import matplotlib.pyplot as plt\n",
    "import numpy as np\n"
   ]
  }
 ],
 "metadata": {
  "kernelspec": {
   "display_name": "Python 3 (ipykernel)",
   "language": "python",
   "name": "python3"
  },
  "language_info": {
   "codemirror_mode": {
    "name": "ipython",
    "version": 3
   },
   "file_extension": ".py",
   "mimetype": "text/x-python",
   "name": "python",
   "nbconvert_exporter": "python",
   "pygments_lexer": "ipython3",
   "version": "3.9.12"
  }
 },
 "nbformat": 4,
 "nbformat_minor": 5
}
