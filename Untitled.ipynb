{
 "cells": [
  {
   "cell_type": "code",
   "execution_count": 1,
   "id": "ee5d7900",
   "metadata": {},
   "outputs": [],
   "source": [
    "import nltk"
   ]
  },
  {
   "cell_type": "code",
   "execution_count": 2,
   "id": "3aeda898",
   "metadata": {},
   "outputs": [
    {
     "name": "stderr",
     "output_type": "stream",
     "text": [
      "[nltk_data] Downloading package punkt to C:\\Users\\Tri\n",
      "[nltk_data]     Putri\\AppData\\Roaming\\nltk_data...\n",
      "[nltk_data]   Package punkt is already up-to-date!\n"
     ]
    },
    {
     "data": {
      "text/plain": [
       "True"
      ]
     },
     "execution_count": 2,
     "metadata": {},
     "output_type": "execute_result"
    }
   ],
   "source": [
    "nltk.download('punkt')"
   ]
  },
  {
   "cell_type": "code",
   "execution_count": 4,
   "id": "df92a45e",
   "metadata": {},
   "outputs": [],
   "source": [
    "from nltk.tokenize import word_tokenize"
   ]
  },
  {
   "cell_type": "code",
   "execution_count": 5,
   "id": "b8e31953",
   "metadata": {},
   "outputs": [
    {
     "name": "stdout",
     "output_type": "stream",
     "text": [
      "['Hallo', 'apa', 'kabarnya', 'kamu', 'di', 'Desa']\n"
     ]
    }
   ],
   "source": [
    "text ='Hallo apa kabarnya kamu di Desa'\n",
    "tokenized_word = word_tokenize(text)\n",
    "print(tokenized_word)"
   ]
  },
  {
   "cell_type": "code",
   "execution_count": 6,
   "id": "6f73a010",
   "metadata": {},
   "outputs": [
    {
     "data": {
      "text/plain": [
       "[('Hallo', 'apa'),\n",
       " ('apa', 'kabarnya'),\n",
       " ('kabarnya', 'kamu'),\n",
       " ('kamu', 'di'),\n",
       " ('di', 'Desa')]"
      ]
     },
     "execution_count": 6,
     "metadata": {},
     "output_type": "execute_result"
    }
   ],
   "source": [
    "list(nltk.bigrams(tokenized_word))"
   ]
  },
  {
   "cell_type": "code",
   "execution_count": 13,
   "id": "de0d9c26",
   "metadata": {},
   "outputs": [
    {
     "data": {
      "text/plain": [
       "[('Hallo', 'apa', 'kabarnya'),\n",
       " ('apa', 'kabarnya', 'kamu'),\n",
       " ('kabarnya', 'kamu', 'di'),\n",
       " ('kamu', 'di', 'Desa')]"
      ]
     },
     "execution_count": 13,
     "metadata": {},
     "output_type": "execute_result"
    }
   ],
   "source": [
    "list (nltk.trigrams(tokenized_word))"
   ]
  },
  {
   "cell_type": "code",
   "execution_count": 14,
   "id": "5f77cac5",
   "metadata": {},
   "outputs": [
    {
     "data": {
      "text/plain": [
       "[('Hallo', 'apa', 'kabarnya', 'kamu'),\n",
       " ('apa', 'kabarnya', 'kamu', 'di'),\n",
       " ('kabarnya', 'kamu', 'di', 'Desa')]"
      ]
     },
     "execution_count": 14,
     "metadata": {},
     "output_type": "execute_result"
    }
   ],
   "source": [
    "list(nltk.ngrams(tokenized_word, 4))"
   ]
  },
  {
   "cell_type": "code",
   "execution_count": 16,
   "id": "c44a62b9",
   "metadata": {},
   "outputs": [
    {
     "name": "stdout",
     "output_type": "stream",
     "text": [
      "<FreqDist with 6 samples and 6 outcomes>\n"
     ]
    },
    {
     "data": {
      "text/plain": [
       "FreqDist({'Hallo': 1, 'apa': 1, 'kabarnya': 1, 'kamu': 1, 'di': 1, 'Desa': 1})"
      ]
     },
     "execution_count": 16,
     "metadata": {},
     "output_type": "execute_result"
    }
   ],
   "source": [
    "from nltk.probability import FreqDist\n",
    "fDist =FreqDist(tokenized_word)\n",
    "print(fDist)\n",
    "fDist"
   ]
  },
  {
   "cell_type": "code",
   "execution_count": 18,
   "id": "9f9cb718",
   "metadata": {},
   "outputs": [
    {
     "data": {
      "text/plain": [
       "[('Hallo', 1), ('apa', 1)]"
      ]
     },
     "execution_count": 18,
     "metadata": {},
     "output_type": "execute_result"
    }
   ],
   "source": [
    "fDist.most_common(2)"
   ]
  },
  {
   "cell_type": "code",
   "execution_count": null,
   "id": "f03abfb2",
   "metadata": {},
   "outputs": [],
   "source": [
    "import matplat"
   ]
  }
 ],
 "metadata": {
  "kernelspec": {
   "display_name": "Python 3 (ipykernel)",
   "language": "python",
   "name": "python3"
  },
  "language_info": {
   "codemirror_mode": {
    "name": "ipython",
    "version": 3
   },
   "file_extension": ".py",
   "mimetype": "text/x-python",
   "name": "python",
   "nbconvert_exporter": "python",
   "pygments_lexer": "ipython3",
   "version": "3.9.12"
  }
 },
 "nbformat": 4,
 "nbformat_minor": 5
}
